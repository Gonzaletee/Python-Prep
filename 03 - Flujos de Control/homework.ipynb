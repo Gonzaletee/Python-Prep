{
 "cells": [
  {
   "cell_type": "markdown",
   "metadata": {},
   "source": [
    "## Flujos de Control\n"
   ]
  },
  {
   "cell_type": "markdown",
   "metadata": {},
   "source": [
    "1) Crear una variable que contenga un elemento del conjunto de números enteros y luego imprimir por pantalla si es mayor o menor a cero\n"
   ]
  },
  {
   "cell_type": "code",
   "execution_count": 5,
   "metadata": {},
   "outputs": [
    {
     "name": "stdout",
     "output_type": "stream",
     "text": [
      "el numero es menor a cero\n"
     ]
    }
   ],
   "source": [
    "num1 = -1\n",
    "if num1 > 0:\n",
    "    print (\"el numero mayor a cero\") \n",
    "elif num1 < 0:\n",
    "    print(\"el numero es menor a cero\")\n",
    "else:\n",
    "    print(\"numero igual a cero\")"
   ]
  },
  {
   "cell_type": "markdown",
   "metadata": {},
   "source": [
    "2) Crear dos variables y un condicional que informe si son del mismo tipo de dato"
   ]
  },
  {
   "cell_type": "code",
   "execution_count": 7,
   "metadata": {},
   "outputs": [
    {
     "name": "stdout",
     "output_type": "stream",
     "text": [
      "las variablres son del mismo tipo\n"
     ]
    }
   ],
   "source": [
    "var1 = \"chao\"\n",
    "var2 = \"hola\"\n",
    "\n",
    "if type(var1)== type(var2):\n",
    "    print (\"las variablres son del mismo tipo\")\n",
    "else:\n",
    "    print(\"las variables son de diferente tipo\")"
   ]
  },
  {
   "cell_type": "markdown",
   "metadata": {},
   "source": [
    "\n",
    "3) Para los valores enteros del 1 al 20, imprimir por pantalla si es par o impar\n"
   ]
  },
  {
   "cell_type": "code",
   "execution_count": 17,
   "metadata": {},
   "outputs": [
    {
     "name": "stdout",
     "output_type": "stream",
     "text": [
      "1 el numero es impar\n",
      "2 el numero es par\n",
      "3 el numero es impar\n",
      "4 el numero es par\n",
      "5 el numero es impar\n",
      "6 el numero es par\n",
      "7 el numero es impar\n",
      "8 el numero es par\n",
      "9 el numero es impar\n",
      "10 el numero es par\n",
      "11 el numero es impar\n",
      "12 el numero es par\n",
      "13 el numero es impar\n",
      "14 el numero es par\n",
      "15 el numero es impar\n",
      "16 el numero es par\n",
      "17 el numero es impar\n",
      "18 el numero es par\n",
      "19 el numero es impar\n",
      "20 el numero es par\n"
     ]
    }
   ],
   "source": [
    "x = range(1,21)\n",
    "for n in x:\n",
    "    if (n%2 == 0):\n",
    "        print(n, \"el numero es par\")\n",
    "    else:\n",
    "        print (n,\"el numero es impar\")"
   ]
  },
  {
   "cell_type": "markdown",
   "metadata": {},
   "source": [
    "4) En un ciclo for mostrar para los valores entre 0 y 5 el resultado de elevarlo a la potencia igual a 3"
   ]
  },
  {
   "cell_type": "code",
   "execution_count": 26,
   "metadata": {},
   "outputs": [
    {
     "name": "stdout",
     "output_type": "stream",
     "text": [
      "0\n",
      "1\n",
      "8\n",
      "27\n",
      "64\n",
      "125\n"
     ]
    }
   ],
   "source": [
    "for i in (0,1,2,3,4,5):\n",
    "   print(i ** 3)\n",
    "        "
   ]
  },
  {
   "cell_type": "markdown",
   "metadata": {},
   "source": [
    "5) Crear una variable que contenga un número entero y realizar un ciclo for la misma cantidad de ciclos"
   ]
  },
  {
   "cell_type": "code",
   "execution_count": 30,
   "metadata": {},
   "outputs": [
    {
     "name": "stdout",
     "output_type": "stream",
     "text": [
      "6\n"
     ]
    }
   ],
   "source": [
    "m = 6\n",
    "\n",
    "for i in range(0,m):\n",
    "    pass\n",
    "print (m)\n"
   ]
  },
  {
   "cell_type": "markdown",
   "metadata": {},
   "source": [
    "\n",
    "6) Utilizar un ciclo while para realizar el factorial de un número guardado en una variable, sólo si la variable contiene un número entero mayor a 0\n"
   ]
  },
  {
   "cell_type": "markdown",
   "metadata": {},
   "source": [
    "\n",
    "7) Crear un ciclo for dentro de un ciclo while"
   ]
  },
  {
   "cell_type": "code",
   "execution_count": 8,
   "metadata": {},
   "outputs": [
    {
     "name": "stdout",
     "output_type": "stream",
     "text": [
      "ciclo wild numero 1\n",
      "ciclo for n, 0\n",
      "ciclo wild numero 2\n",
      "ciclo for n, 0\n",
      "ciclo for n, 1\n",
      "ciclo wild numero 3\n",
      "ciclo for n, 0\n",
      "ciclo for n, 1\n",
      "ciclo for n, 2\n"
     ]
    }
   ],
   "source": [
    "n = 0\n",
    "while (n<3):\n",
    "    n=n+1\n",
    "    print(\"ciclo wild numero\",n  )\n",
    "    for i in range(0,n):\n",
    "        print (\"ciclo for n,\",i)\n",
    "    "
   ]
  },
  {
   "cell_type": "markdown",
   "metadata": {},
   "source": [
    "\n",
    "8) Crear un ciclo while dentro de un ciclo for"
   ]
  },
  {
   "cell_type": "code",
   "execution_count": 10,
   "metadata": {},
   "outputs": [
    {
     "name": "stdout",
     "output_type": "stream",
     "text": [
      "ciclo for numero 0\n",
      "ciclo while numero 0\n",
      "ciclo while numero 0\n",
      "ciclo while numero 0\n",
      "ciclo for numero 1\n",
      "ciclo while numero 1\n",
      "ciclo while numero 1\n",
      "ciclo while numero 1\n",
      "ciclo for numero 2\n",
      "ciclo while numero 2\n",
      "ciclo while numero 2\n",
      "ciclo while numero 2\n"
     ]
    }
   ],
   "source": [
    "n = 0\n",
    "for i in range(0,3):\n",
    "    print(\"ciclo for numero\",i)\n",
    "    n=0\n",
    "    while (n < 3):\n",
    "        n =n+1\n",
    "        print(\"ciclo while numero\",i)\n",
    "       \n"
   ]
  },
  {
   "cell_type": "markdown",
   "metadata": {},
   "source": [
    "9) Imprimir los números primos existentes entre 0 y 30"
   ]
  },
  {
   "cell_type": "markdown",
   "metadata": {},
   "source": [
    "\n",
    "10) ¿Se puede mejorar el proceso del punto 9? Utilizar las sentencias break y/ó continue para tal fin"
   ]
  },
  {
   "cell_type": "markdown",
   "metadata": {},
   "source": [
    "11) En los puntos 9 y 10, se diseño un código que encuentra números primos y además se lo optimizó. ¿Es posible saber en qué medida se optimizó?"
   ]
  },
  {
   "cell_type": "markdown",
   "metadata": {},
   "source": [
    "12) Si la cantidad de números que se evalúa es mayor a treinta, esa optimización crece?"
   ]
  },
  {
   "cell_type": "markdown",
   "metadata": {},
   "source": [
    "13) Aplicando continue, armar un ciclo while que solo imprima los valores divisibles por 12, dentro del rango de números de 100 a 300"
   ]
  },
  {
   "cell_type": "markdown",
   "metadata": {},
   "source": [
    "\n",
    "14) Utilizar la función **input()** que permite hacer ingresos por teclado, para encontrar números primos y dar la opción al usario de buscar el siguiente"
   ]
  },
  {
   "cell_type": "markdown",
   "metadata": {},
   "source": [
    "15) Crear un ciclo while que encuentre dentro del rango de 100 a 300 el primer número divisible por 3 y además múltiplo de 6"
   ]
  },
  {
   "cell_type": "code",
   "execution_count": null,
   "metadata": {},
   "outputs": [],
   "source": []
  }
 ],
 "metadata": {
  "kernelspec": {
   "display_name": "Python 3.9.7 ('dev')",
   "language": "python",
   "name": "python3"
  },
  "language_info": {
   "codemirror_mode": {
    "name": "ipython",
    "version": 3
   },
   "file_extension": ".py",
   "mimetype": "text/x-python",
   "name": "python",
   "nbconvert_exporter": "python",
   "pygments_lexer": "ipython3",
   "version": "3.9.7"
  },
  "orig_nbformat": 4,
  "vscode": {
   "interpreter": {
    "hash": "d8059262e5c68ab6f604dc1ffbd5733da0f6e913497014d7dcf01ca71c2c537d"
   }
  }
 },
 "nbformat": 4,
 "nbformat_minor": 2
}
