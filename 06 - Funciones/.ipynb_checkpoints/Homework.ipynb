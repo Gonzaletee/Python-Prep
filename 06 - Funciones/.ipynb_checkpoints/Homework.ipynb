{
 "cells": [
  {
   "attachments": {},
   "cell_type": "markdown",
   "metadata": {},
   "source": [
    "## Funciones"
   ]
  },
  {
   "attachments": {},
   "cell_type": "markdown",
   "metadata": {},
   "source": [
    "1) Crear una función que reciba un número como parámetro y devuelva si True si es primo y False si no lo es"
   ]
  },
  {
   "cell_type": "code",
   "execution_count": 40,
   "metadata": {},
   "outputs": [
    {
     "name": "stdout",
     "output_type": "stream",
     "text": [
      "Es primo\n"
     ]
    },
    {
     "data": {
      "text/plain": [
       "True"
      ]
     },
     "execution_count": 40,
     "metadata": {},
     "output_type": "execute_result"
    }
   ],
   "source": [
    "def primo():\n",
    "    num2 = input(\"ingrese un numero\")\n",
    "    num = int(num2)\n",
    "    for n in range(2,num):\n",
    "        if num % n == 0:\n",
    "            print(\"No es primo\", n, \"es divisor\")\n",
    "            return False\n",
    "    print(\"Es primo\")\n",
    "    return True\n",
    "\n",
    "         \n",
    "primo()\n",
    "\n",
    "\n",
    "\n"
   ]
  },
  {
   "attachments": {},
   "cell_type": "markdown",
   "metadata": {},
   "source": [
    "2) Utilizando la función del punto 1, realizar otra función que reciba de parámetro una lista de números y devuelva sólo aquellos que son primos en otra lista"
   ]
  },
  {
   "cell_type": "code",
   "execution_count": 39,
   "metadata": {},
   "outputs": [
    {
     "name": "stdout",
     "output_type": "stream",
     "text": [
      "[3, 5, 3, 9]\n"
     ]
    }
   ],
   "source": [
    "\n",
    "def lista_primos():\n",
    "  lista = [6,3,5,3,9]\n",
    "  vacia = []\n",
    "\n",
    "  for i in range(len(lista)):\n",
    "    ##print(lista[i])\n",
    "    nro=lista[i]\n",
    "    primo = True\n",
    "    #print(nro)\n",
    "    \n",
    "    for i in range(2, nro):\n",
    "        if nro % i == 0:\n",
    "            primo = False\n",
    "            break  \n",
    "        elif primo == True:\n",
    "            #print(nro)\n",
    "            vacia.append(nro)\n",
    "            break\n",
    "             \n",
    "  return vacia\n",
    "\n",
    "print(lista_primos())\n",
    "\n",
    "\n"
   ]
  },
  {
   "attachments": {},
   "cell_type": "markdown",
   "metadata": {},
   "source": [
    "3) Crear una función que al recibir una lista de números, devuelva el que más se repite y cuántas veces lo hace. Si hay más de un \"más repetido\", que devuelva cualquiera"
   ]
  },
  {
   "cell_type": "code",
   "execution_count": 25,
   "metadata": {},
   "outputs": [
    {
     "name": "stdout",
     "output_type": "stream",
     "text": [
      "1\n",
      "2\n",
      "3\n",
      "3\n",
      "3\n"
     ]
    }
   ],
   "source": [
    "pru= [1,2,3,3,3]\n",
    "\n",
    "for n in pru:\n",
    "    \n",
    "    print(pru[n-1])\n",
    "\n",
    "\n"
   ]
  }
 ],
 "metadata": {
  "kernelspec": {
   "display_name": "Python 3.9.7 ('dev')",
   "language": "python",
   "name": "python3"
  },
  "language_info": {
   "codemirror_mode": {
    "name": "ipython",
    "version": 3
   },
   "file_extension": ".py",
   "mimetype": "text/x-python",
   "name": "python",
   "nbconvert_exporter": "python",
   "pygments_lexer": "ipython3",
   "version": "3.9.7"
  },
  "orig_nbformat": 4,
  "vscode": {
   "interpreter": {
    "hash": "d8059262e5c68ab6f604dc1ffbd5733da0f6e913497014d7dcf01ca71c2c537d"
   }
  }
 },
 "nbformat": 4,
 "nbformat_minor": 2
}
